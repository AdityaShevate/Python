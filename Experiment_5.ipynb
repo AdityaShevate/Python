{
  "nbformat": 4,
  "nbformat_minor": 0,
  "metadata": {
    "colab": {
      "provenance": [],
      "authorship_tag": "ABX9TyOjHIbjt32t90Fhe3NOOeSM",
      "include_colab_link": true
    },
    "kernelspec": {
      "name": "python3",
      "display_name": "Python 3"
    },
    "language_info": {
      "name": "python"
    }
  },
  "cells": [
    {
      "cell_type": "markdown",
      "metadata": {
        "id": "view-in-github",
        "colab_type": "text"
      },
      "source": [
        "<a href=\"https://colab.research.google.com/github/AdityaShevate/Python/blob/main/Experiment_5.ipynb\" target=\"_parent\"><img src=\"https://colab.research.google.com/assets/colab-badge.svg\" alt=\"Open In Colab\"/></a>"
      ]
    },
    {
      "cell_type": "code",
      "execution_count": 1,
      "metadata": {
        "id": "aj4J8hMhF_5o",
        "colab": {
          "base_uri": "https://localhost:8080/"
        },
        "outputId": "35f57d7e-6659-4ddb-d708-df2aa403c2a8"
      },
      "outputs": [
        {
          "output_type": "stream",
          "name": "stdout",
          "text": [
            "Original tuple: ('apple', 'banana', 'cherry')\n",
            "Accessed tuple at index 1 is banana\n",
            "Updated tuple: ('apple', 'banana', 'pear')\n",
            "Deleting tuple.\n"
          ]
        }
      ],
      "source": [
        "thistuple=(\"apple\",\"banana\",\"cherry\")\n",
        "print(\"Original tuple:\",thistuple)\n",
        "print(\"Accessed tuple at index 1 is\",thistuple[1])\n",
        "mytuple=list(thistuple)\n",
        "mytuple[2]=\"pear\"\n",
        "thistuple=tuple(mytuple)\n",
        "print(\"Updated tuple:\",thistuple)\n",
        "print(\"Deleting tuple.\")\n",
        "del thistuple"
      ]
    },
    {
      "cell_type": "code",
      "source": [
        "x=(1,2,3,4,2,5,2)\n",
        "print(\"Tuple:\",x)\n",
        "for i in x:\n",
        "  if x.count(i)-1:\n",
        "    print(\"REPEATED!\")\n",
        "count=x.count(i)\n",
        "print(\"Item of the tuple is repeated\",count,\"times.\")"
      ],
      "metadata": {
        "colab": {
          "base_uri": "https://localhost:8080/"
        },
        "id": "QUbebwUuqyZA",
        "outputId": "a4a52d43-9033-4409-eb17-4980e65504a3"
      },
      "execution_count": 2,
      "outputs": [
        {
          "output_type": "stream",
          "name": "stdout",
          "text": [
            "Tuple: (1, 2, 3, 4, 2, 5, 2)\n",
            "REPEATED!\n",
            "REPEATED!\n",
            "REPEATED!\n",
            "Item of the tuple is repeated 3 times.\n"
          ]
        }
      ]
    },
    {
      "cell_type": "code",
      "source": [
        "x=(2,4,6,1,9,5,8)\n",
        "print(\"Tuple:\",x)\n",
        "min(x)\n",
        "max(x)\n",
        "print(\"Minimum no. in tuple:\",min(x))\n",
        "print(\"Maximum no. in tuple:\",max(x))"
      ],
      "metadata": {
        "colab": {
          "base_uri": "https://localhost:8080/"
        },
        "id": "pFzH_KfDq2f0",
        "outputId": "4e943b81-ffb2-4728-dabe-43d384122598"
      },
      "execution_count": 3,
      "outputs": [
        {
          "output_type": "stream",
          "name": "stdout",
          "text": [
            "Tuple: (2, 4, 6, 1, 9, 5, 8)\n",
            "Minimum no. in tuple: 1\n",
            "Maximum no. in tuple: 9\n"
          ]
        }
      ]
    },
    {
      "cell_type": "code",
      "source": [
        "x=(\"apple\",\"banana\",\"cherry\",\"melon\",\"mango\")\n",
        "print(\"Tuple:\",x)\n",
        "if \"cherry\" in x:\n",
        "  print(\"Element exists in tuple!\")\n",
        "else:\n",
        "  print(\"Element not found!\")"
      ],
      "metadata": {
        "colab": {
          "base_uri": "https://localhost:8080/"
        },
        "id": "HAg9nfKDq6yK",
        "outputId": "65aabc6b-f31d-4e23-f98e-f2a2a9a6f7f3"
      },
      "execution_count": 4,
      "outputs": [
        {
          "output_type": "stream",
          "name": "stdout",
          "text": [
            "Tuple: ('apple', 'banana', 'cherry', 'melon', 'mango')\n",
            "Element exists in tuple!\n"
          ]
        }
      ]
    },
    {
      "cell_type": "code",
      "source": [
        "x=(1,2,3,4,5)\n",
        "print(\"Tuple:\",x)\n",
        "def ReversedTuple(tup):\n",
        "  return tup[::-1]\n",
        "print(\"Reversed tuple:\",ReversedTuple(x))"
      ],
      "metadata": {
        "colab": {
          "base_uri": "https://localhost:8080/"
        },
        "id": "qpb1jdG8q_lG",
        "outputId": "b01d3aad-d370-47b3-8def-bbcd3e47d0cb"
      },
      "execution_count": 5,
      "outputs": [
        {
          "output_type": "stream",
          "name": "stdout",
          "text": [
            "Tuple: (1, 2, 3, 4, 5)\n",
            "Reversed tuple: (5, 4, 3, 2, 1)\n"
          ]
        }
      ]
    }
  ]
}