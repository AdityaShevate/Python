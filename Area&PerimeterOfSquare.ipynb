{
  "nbformat": 4,
  "nbformat_minor": 0,
  "metadata": {
    "colab": {
      "provenance": [],
      "authorship_tag": "ABX9TyOjqavy0gnJWMTBAkkz3XSw",
      "include_colab_link": true
    },
    "kernelspec": {
      "name": "python3",
      "display_name": "Python 3"
    },
    "language_info": {
      "name": "python"
    }
  },
  "cells": [
    {
      "cell_type": "markdown",
      "metadata": {
        "id": "view-in-github",
        "colab_type": "text"
      },
      "source": [
        "<a href=\"https://colab.research.google.com/github/AdityaShevate/Python/blob/main/Area%26PerimeterOfSquare.ipynb\" target=\"_parent\"><img src=\"https://colab.research.google.com/assets/colab-badge.svg\" alt=\"Open In Colab\"/></a>"
      ]
    },
    {
      "cell_type": "code",
      "execution_count": 1,
      "metadata": {
        "colab": {
          "base_uri": "https://localhost:8080/"
        },
        "id": "2TYxNdSSOULo",
        "outputId": "7278ee68-34a6-4dc2-ba5a-388792de6676"
      },
      "outputs": [
        {
          "output_type": "stream",
          "name": "stdout",
          "text": [
            "Enter the side length of the square: 4\n",
            "Area: 16.0\n",
            "Perimeter: 16.0\n"
          ]
        }
      ],
      "source": [
        "side = float(input(\"Enter the side length of the square: \"))\n",
        "\n",
        "area = side * side\n",
        "perimeter = 4 * side\n",
        "\n",
        "print(f\"Area: {area}\")\n",
        "print(f\"Perimeter: {perimeter}\")"
      ]
    }
  ]
}